{
 "cells": [
  {
   "cell_type": "code",
   "execution_count": 1,
   "metadata": {},
   "outputs": [],
   "source": [
    "import numpy as np\n",
    "import matplotlib.pyplot as plt\n",
    "from sklearn.linear_model import LogisticRegression\n",
    "from xgboost import XGBClassifier\n",
    "from sklearn.decomposition import TruncatedSVD\n",
    "from sklearn.feature_extraction.text import CountVectorizer, TfidfTransformer\n",
    "from sklearn.datasets import fetch_20newsgroups\n",
    "from sklearn.model_selection import train_test_split\n",
    "from sklearn.metrics import log_loss\n",
    "from operator import itemgetter\n",
    "from millet import SupervTransformer, UnsupervTransformer, BaseDataLoader, MultiPipeline"
   ]
  },
  {
   "cell_type": "code",
   "execution_count": 2,
   "metadata": {},
   "outputs": [],
   "source": [
    "newsgroups_train = fetch_20newsgroups(subset='train', remove=('headers', 'footers', 'quotes'))\n",
    "newsgroups_test = fetch_20newsgroups(subset='test', remove=('headers', 'footers', 'quotes'))"
   ]
  },
  {
   "cell_type": "code",
   "execution_count": 3,
   "metadata": {},
   "outputs": [],
   "source": [
    "X_train, y_train = newsgroups_train.data, newsgroups_train.target\n",
    "\n",
    "X_fit, X_val, y_fit, y_val = train_test_split(X_train, y_train, test_size=0.1, stratify=y_train, random_state=42)"
   ]
  },
  {
   "cell_type": "code",
   "execution_count": 4,
   "metadata": {},
   "outputs": [],
   "source": [
    "fit_data = {'X': X_train, 'y': y_train}\n",
    "ens_data = {'X': X_val, 'y': y_val}\n",
    "test_data = {'X': newsgroups_test.data, 'y': newsgroups_test.target}"
   ]
  },
  {
   "cell_type": "code",
   "execution_count": 5,
   "metadata": {},
   "outputs": [],
   "source": [
    "class SimpleDataLoader(BaseDataLoader):\n",
    "    def load_data(self, input_info):\n",
    "        out_dict = {'X': input_info['X'],\n",
    "                    'y': input_info['y']}\n",
    "        return out_dict"
   ]
  },
  {
   "cell_type": "code",
   "execution_count": 6,
   "metadata": {},
   "outputs": [],
   "source": [
    "class FeatConcatTransformer(UnsupervTransformer):\n",
    "    def fit(self, input_dict):\n",
    "        pass\n",
    "    \n",
    "    def transform(self, input_dict):\n",
    "        X_stacked = np.hstack([v for k, v in sorted(input_dict.items(), key=itemgetter(0))])\n",
    "        out_dict = {'X': X_stacked}\n",
    "        return out_dict"
   ]
  },
  {
   "cell_type": "code",
   "execution_count": 7,
   "metadata": {},
   "outputs": [],
   "source": [
    "class CountVecTransformer(UnsupervTransformer):\n",
    "    def __init__(self):\n",
    "        self.cvec = CountVectorizer()\n",
    "        \n",
    "    def fit(self, input_dict):\n",
    "        self.cvec.fit(input_dict['X'])\n",
    "    \n",
    "    def transform(self, input_dict):\n",
    "        return {'X': self.cvec.transform(input_dict['X'])}"
   ]
  },
  {
   "cell_type": "code",
   "execution_count": 8,
   "metadata": {},
   "outputs": [],
   "source": [
    "class MyTfidfTransformer(UnsupervTransformer):\n",
    "    def __init__(self):\n",
    "        self.tfidf = TfidfTransformer()\n",
    "        \n",
    "    def fit(self, input_dict):\n",
    "        self.tfidf.fit(input_dict['X'])\n",
    "        \n",
    "    def transform(self, input_dict):\n",
    "        return {'X': self.tfidf.transform(input_dict['X'])}"
   ]
  },
  {
   "cell_type": "code",
   "execution_count": 9,
   "metadata": {},
   "outputs": [],
   "source": [
    "class SvdTransformer(UnsupervTransformer):\n",
    "    def __init__(self):\n",
    "        self.tfm = TruncatedSVD(n_components=200)\n",
    "        \n",
    "    def fit(self, input_dict):\n",
    "        self.tfm.fit(input_dict['X'])\n",
    "        \n",
    "    def transform(self, input_dict):\n",
    "        return {'X': self.tfm.transform(input_dict['X'])}"
   ]
  },
  {
   "cell_type": "code",
   "execution_count": 10,
   "metadata": {},
   "outputs": [],
   "source": [
    "class XgbTransformer(SupervTransformer):\n",
    "    def __init__(self):\n",
    "        self.clf = XGBClassifier(n_jobs=4)\n",
    "        \n",
    "    def fit(self, input_dict, superv_dict):\n",
    "        self.clf.fit(input_dict['X'], superv_dict['y'])\n",
    "        \n",
    "    def transform(self, input_dict):\n",
    "        return {'y': self.clf.predict_proba(input_dict['X'])}"
   ]
  },
  {
   "cell_type": "code",
   "execution_count": 11,
   "metadata": {},
   "outputs": [],
   "source": [
    "class LogRegTransformer(SupervTransformer):\n",
    "    def __init__(self):\n",
    "        self.clf = LogisticRegression()\n",
    "        \n",
    "    def fit(self, input_dict, superv_dict):\n",
    "        self.clf.fit(input_dict['X'], superv_dict['y'])\n",
    "        \n",
    "    def transform(self, input_dict):\n",
    "        return {'y': self.clf.predict_proba(input_dict['X'])}"
   ]
  },
  {
   "cell_type": "code",
   "execution_count": 12,
   "metadata": {},
   "outputs": [],
   "source": [
    "mpp = MultiPipeline()\n",
    "\n",
    "mpp.add_dataloader(SimpleDataLoader(),\n",
    "                   node_name='LOAD')\n",
    "\n",
    "mpp.add_unsuperv(CountVecTransformer(),\n",
    "                 node_name='CountVec',\n",
    "                 input_mapping={'X': ('LOAD', 'X')})  \n",
    "\n",
    "mpp.add_unsuperv(MyTfidfTransformer(),\n",
    "                 node_name='TFIDF',\n",
    "                 input_mapping={'X': ('CountVec', 'X')})\n",
    "\n",
    "mpp.add_unsuperv(SvdTransformer(),\n",
    "                 node_name='SVD',\n",
    "                 input_mapping={'X': ('TFIDF', 'X')})\n",
    "\n",
    "mpp.add_superv(XgbTransformer(),\n",
    "               node_name='XGB',\n",
    "               input_mapping={'X': ('SVD', 'X')},\n",
    "               superv_mapping={'y': ('LOAD', 'y')})\n",
    "\n",
    "mpp.add_superv(LogRegTransformer(),\n",
    "               node_name='LogReg',\n",
    "               input_mapping={'X': ('TFIDF', 'X')},\n",
    "               superv_mapping={'y': ('LOAD', 'y')})\n",
    "\n",
    "mpp.add_unsuperv(FeatConcatTransformer(),\n",
    "                 node_name='FeatConcat',\n",
    "                 input_mapping={'X1': ('XGB', 'y'), 'X2': ('LogReg', 'y')})\n",
    "\n",
    "mpp.add_superv(LogRegTransformer(),\n",
    "               node_name='EnsLogReg',\n",
    "               input_mapping={'X': ('FeatConcat', 'X')},\n",
    "               superv_mapping={'y': ('LOAD', 'y')})"
   ]
  },
  {
   "cell_type": "code",
   "execution_count": 13,
   "metadata": {},
   "outputs": [
    {
     "name": "stdout",
     "output_type": "stream",
     "text": [
      "LOAD 4\n",
      "CountVec {'source_data_keys': {'X': 'X'}}\n",
      "XGB {'source_superv_keys': {'y': 'y'}}\n",
      "LogReg {'source_superv_keys': {'y': 'y'}}\n",
      "EnsLogReg {'source_superv_keys': {'y': 'y'}}\n",
      "CountVec 1\n",
      "TFIDF {'source_data_keys': {'X': 'X'}}\n",
      "TFIDF 2\n",
      "SVD {'source_data_keys': {'X': 'X'}}\n",
      "LogReg {'source_data_keys': {'X': 'X'}}\n",
      "SVD 1\n",
      "XGB {'source_data_keys': {'X': 'X'}}\n",
      "XGB 1\n",
      "FeatConcat {'source_data_keys': {'X1': 'y'}}\n",
      "LogReg 1\n",
      "FeatConcat {'source_data_keys': {'X2': 'y'}}\n",
      "FeatConcat 1\n",
      "EnsLogReg {'source_data_keys': {'X': 'X'}}\n",
      "EnsLogReg 0\n"
     ]
    }
   ],
   "source": [
    "mpp.print()"
   ]
  },
  {
   "cell_type": "code",
   "execution_count": 14,
   "metadata": {},
   "outputs": [
    {
     "data": {
      "image/png": "[encoded data removed]",
      "text/plain": [
       "<Figure size 432x288 with 1 Axes>"
      ]
     },
     "metadata": {},
     "output_type": "display_data"
    }
   ],
   "source": [
    "mpp.draw()\n",
    "plt.axis('off');"
   ]
  },
  {
   "cell_type": "code",
   "execution_count": 15,
   "metadata": {},
   "outputs": [
    {
     "name": "stdout",
     "output_type": "stream",
     "text": [
      "[MultiPipeline] Clearing output of node_name: LOAD\n",
      "[MultiPipeline] Clearing output of node_name: CountVec\n",
      "[MultiPipeline] Clearing output of node_name: TFIDF\n",
      "[MultiPipeline] Clearing output of node_name: SVD\n",
      "[MultiPipeline] Clearing output of node_name: XGB\n",
      "[MultiPipeline] Clearing output of node_name: LogReg\n",
      "[MultiPipeline] Clearing output of node_name: FeatConcat\n",
      "[MultiPipeline] Clearing output of node_name: EnsLogReg\n",
      "[MultiPipeline] Running node LOAD\n",
      "[MultiPipeline]   Calling load_data\n",
      "[MultiPipeline] Running node CountVec\n",
      "[MultiPipeline]   Translating inputs\n",
      "[MultiPipeline]     Forwarding data LOAD:X to data CountVec:X\n",
      "[MultiPipeline]   Calling fit_transform with input_dict dict_keys(['X'])\n",
      "[MultiPipeline] Running node TFIDF\n",
      "[MultiPipeline]   Translating inputs\n",
      "[MultiPipeline]     Forwarding data CountVec:X to data TFIDF:X\n",
      "[MultiPipeline]   Calling fit_transform with input_dict dict_keys(['X'])\n",
      "[MultiPipeline] Running node LogReg\n",
      "[MultiPipeline]   Translating inputs\n",
      "[MultiPipeline]     Forwarding data TFIDF:X to data LogReg:X\n",
      "[MultiPipeline]     Forwarding data LOAD:y to supervision data LogReg:y\n",
      "[MultiPipeline]   Calling fit_transform with input_dict dict_keys(['X']) and superv_dict dict_keys(['y'])\n",
      "[MultiPipeline] Running node SVD\n",
      "[MultiPipeline]   Translating inputs\n",
      "[MultiPipeline]     Forwarding data TFIDF:X to data SVD:X\n",
      "[MultiPipeline]   Calling fit_transform with input_dict dict_keys(['X'])\n",
      "[MultiPipeline] Running node XGB\n",
      "[MultiPipeline]   Translating inputs\n",
      "[MultiPipeline]     Forwarding data SVD:X to data XGB:X\n",
      "[MultiPipeline]     Forwarding data LOAD:y to supervision data XGB:y\n",
      "[MultiPipeline]   Calling fit_transform with input_dict dict_keys(['X']) and superv_dict dict_keys(['y'])\n"
     ]
    }
   ],
   "source": [
    "submodel_fit_out = mpp.run(fit_data, \n",
    "                           fit_node_names=['CountVec', 'TFIDF', 'SVD', 'XGB', 'LogReg'], \n",
    "                           output_node_names=['XGB', 'LogReg'])"
   ]
  },
  {
   "cell_type": "code",
   "execution_count": 16,
   "metadata": {},
   "outputs": [
    {
     "name": "stdout",
     "output_type": "stream",
     "text": [
      "[MultiPipeline] Clearing output of node_name: LOAD\n",
      "[MultiPipeline] Clearing output of node_name: CountVec\n",
      "[MultiPipeline] Clearing output of node_name: TFIDF\n",
      "[MultiPipeline] Clearing output of node_name: SVD\n",
      "[MultiPipeline] Clearing output of node_name: XGB\n",
      "[MultiPipeline] Clearing output of node_name: LogReg\n",
      "[MultiPipeline] Clearing output of node_name: FeatConcat\n",
      "[MultiPipeline] Clearing output of node_name: EnsLogReg\n",
      "[MultiPipeline] Running node LOAD\n",
      "[MultiPipeline]   Calling load_data\n",
      "[MultiPipeline] Running node CountVec\n",
      "[MultiPipeline]   Translating inputs\n",
      "[MultiPipeline]     Forwarding data LOAD:X to data CountVec:X\n",
      "[MultiPipeline]   Calling transform with input_dict dict_keys(['X'])\n",
      "[MultiPipeline] Running node TFIDF\n",
      "[MultiPipeline]   Translating inputs\n",
      "[MultiPipeline]     Forwarding data CountVec:X to data TFIDF:X\n",
      "[MultiPipeline]   Calling transform with input_dict dict_keys(['X'])\n",
      "[MultiPipeline] Running node LogReg\n",
      "[MultiPipeline]   Translating inputs\n",
      "[MultiPipeline]     Forwarding data TFIDF:X to data LogReg:X\n",
      "[MultiPipeline]   Calling transform with input_dict dict_keys(['X'])\n",
      "[MultiPipeline] Running node SVD\n",
      "[MultiPipeline]   Translating inputs\n",
      "[MultiPipeline]     Forwarding data TFIDF:X to data SVD:X\n",
      "[MultiPipeline]   Calling transform with input_dict dict_keys(['X'])\n",
      "[MultiPipeline] Running node XGB\n",
      "[MultiPipeline]   Translating inputs\n",
      "[MultiPipeline]     Forwarding data SVD:X to data XGB:X\n",
      "[MultiPipeline]   Calling transform with input_dict dict_keys(['X'])\n",
      "[MultiPipeline] Running node FeatConcat\n",
      "[MultiPipeline]   Translating inputs\n",
      "[MultiPipeline]     Forwarding data XGB:y to data FeatConcat:X1\n",
      "[MultiPipeline]     Forwarding data LogReg:y to data FeatConcat:X2\n",
      "[MultiPipeline]   Calling transform with input_dict dict_keys(['X1', 'X2'])\n",
      "[MultiPipeline] Running node EnsLogReg\n",
      "[MultiPipeline]   Translating inputs\n",
      "[MultiPipeline]     Forwarding data FeatConcat:X to data EnsLogReg:X\n",
      "[MultiPipeline]     Forwarding data LOAD:y to supervision data EnsLogReg:y\n",
      "[MultiPipeline]   Calling fit_transform with input_dict dict_keys(['X']) and superv_dict dict_keys(['y'])\n"
     ]
    }
   ],
   "source": [
    "ens_fit_out = mpp.run(ens_data, fit_node_names=['EnsLogReg'] , output_node_names=['EnsLogReg'])"
   ]
  },
  {
   "cell_type": "code",
   "execution_count": 17,
   "metadata": {},
   "outputs": [
    {
     "name": "stdout",
     "output_type": "stream",
     "text": [
      "[MultiPipeline] Clearing output of node_name: LOAD\n",
      "[MultiPipeline] Clearing output of node_name: CountVec\n",
      "[MultiPipeline] Clearing output of node_name: TFIDF\n",
      "[MultiPipeline] Clearing output of node_name: SVD\n",
      "[MultiPipeline] Clearing output of node_name: XGB\n",
      "[MultiPipeline] Clearing output of node_name: LogReg\n",
      "[MultiPipeline] Clearing output of node_name: FeatConcat\n",
      "[MultiPipeline] Clearing output of node_name: EnsLogReg\n",
      "[MultiPipeline] Running node LOAD\n",
      "[MultiPipeline]   Calling load_data\n",
      "[MultiPipeline] Running node CountVec\n",
      "[MultiPipeline]   Translating inputs\n",
      "[MultiPipeline]     Forwarding data LOAD:X to data CountVec:X\n",
      "[MultiPipeline]   Calling transform with input_dict dict_keys(['X'])\n",
      "[MultiPipeline] Running node TFIDF\n",
      "[MultiPipeline]   Translating inputs\n",
      "[MultiPipeline]     Forwarding data CountVec:X to data TFIDF:X\n",
      "[MultiPipeline]   Calling transform with input_dict dict_keys(['X'])\n",
      "[MultiPipeline] Running node LogReg\n",
      "[MultiPipeline]   Translating inputs\n",
      "[MultiPipeline]     Forwarding data TFIDF:X to data LogReg:X\n",
      "[MultiPipeline]   Calling transform with input_dict dict_keys(['X'])\n",
      "[MultiPipeline] Running node SVD\n",
      "[MultiPipeline]   Translating inputs\n",
      "[MultiPipeline]     Forwarding data TFIDF:X to data SVD:X\n",
      "[MultiPipeline]   Calling transform with input_dict dict_keys(['X'])\n",
      "[MultiPipeline] Running node XGB\n",
      "[MultiPipeline]   Translating inputs\n",
      "[MultiPipeline]     Forwarding data SVD:X to data XGB:X\n",
      "[MultiPipeline]   Calling transform with input_dict dict_keys(['X'])\n",
      "[MultiPipeline] Running node FeatConcat\n",
      "[MultiPipeline]   Translating inputs\n",
      "[MultiPipeline]     Forwarding data XGB:y to data FeatConcat:X1\n",
      "[MultiPipeline]     Forwarding data LogReg:y to data FeatConcat:X2\n",
      "[MultiPipeline]   Calling transform with input_dict dict_keys(['X1', 'X2'])\n",
      "[MultiPipeline] Running node EnsLogReg\n",
      "[MultiPipeline]   Translating inputs\n",
      "[MultiPipeline]     Forwarding data FeatConcat:X to data EnsLogReg:X\n",
      "[MultiPipeline]   Calling transform with input_dict dict_keys(['X'])\n"
     ]
    }
   ],
   "source": [
    "test_out = mpp.run(test_data, fit_node_names=[], output_node_names=['XGB', 'LogReg', 'EnsLogReg'])"
   ]
  },
  {
   "cell_type": "code",
   "execution_count": 18,
   "metadata": {},
   "outputs": [
    {
     "name": "stdout",
     "output_type": "stream",
     "text": [
      "XGB test log-loss: 1.7335\n",
      "LogReg test log-loss: 1.6760\n",
      "Ensemble test log-loss: 1.6848\n"
     ]
    }
   ],
   "source": [
    "print('XGB test log-loss: {:.4f}'.format(log_loss(y_true=test_data['y'], y_pred=test_out['XGB']['y'])))\n",
    "print('LogReg test log-loss: {:.4f}'.format(log_loss(y_true=test_data['y'], y_pred=test_out['LogReg']['y'])))\n",
    "print('Ensemble test log-loss: {:.4f}'.format(log_loss(y_true=test_data['y'], y_pred=test_out['EnsLogReg']['y'])))"
   ]
  },
  {
   "cell_type": "code",
   "execution_count": null,
   "metadata": {},
   "outputs": [],
   "source": []
  }
 ],
 "metadata": {
  "kernelspec": {
   "display_name": "Python 3",
   "language": "python",
   "name": "python3"
  },
  "language_info": {
   "codemirror_mode": {
    "name": "ipython",
    "version": 3
   },
   "file_extension": ".py",
   "mimetype": "text/x-python",
   "name": "python",
   "nbconvert_exporter": "python",
   "pygments_lexer": "ipython3",
   "version": "3.6.5"
  }
 },
 "nbformat": 4,
 "nbformat_minor": 2
}
